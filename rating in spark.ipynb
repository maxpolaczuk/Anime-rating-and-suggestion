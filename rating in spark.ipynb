{
 "cells": [
  {
   "cell_type": "markdown",
   "metadata": {},
   "source": [
    "## Predicting Anime Ratings with Spark\n",
    "A quick example of spark & pandas, using Mllib.\n",
    "\n",
    "The dataset was taken from Kaggle."
   ]
  },
  {
   "cell_type": "code",
   "execution_count": 1,
   "metadata": {
    "collapsed": false
   },
   "outputs": [],
   "source": [
    "import findspark\n",
    "findspark.init('/home/max/Downloads/spark-2.1.1-bin-hadoop2.7')\n",
    "\n",
    "from pyspark import SparkContext, SparkConf\n",
    "from pyspark.sql import SparkSession\n",
    "import pandas as pd\n",
    "import numpy as np\n",
    "import seaborn as seas\n",
    "\n",
    "sc = SparkContext() # start the spark context\n",
    "spark = SparkSession(sc) # start spark session"
   ]
  },
  {
   "cell_type": "markdown",
   "metadata": {},
   "source": [
    "### Dataset\n",
    "\n",
    "A bunch of anime titles, their genre, whether they are TV or Movie, their # of episodes, rating and number of members in that group"
   ]
  },
  {
   "cell_type": "code",
   "execution_count": 59,
   "metadata": {
    "collapsed": false
   },
   "outputs": [
    {
     "data": {
      "text/html": [
       "<div>\n",
       "<table border=\"1\" class=\"dataframe\">\n",
       "  <thead>\n",
       "    <tr style=\"text-align: right;\">\n",
       "      <th></th>\n",
       "      <th>anime_id</th>\n",
       "      <th>name</th>\n",
       "      <th>genre</th>\n",
       "      <th>type</th>\n",
       "      <th>episodes</th>\n",
       "      <th>rating</th>\n",
       "      <th>members</th>\n",
       "    </tr>\n",
       "  </thead>\n",
       "  <tbody>\n",
       "    <tr>\n",
       "      <th>0</th>\n",
       "      <td>32281</td>\n",
       "      <td>Kimi no Na wa.</td>\n",
       "      <td>Drama, Romance, School, Supernatural</td>\n",
       "      <td>Movie</td>\n",
       "      <td>1</td>\n",
       "      <td>9.37</td>\n",
       "      <td>200630</td>\n",
       "    </tr>\n",
       "    <tr>\n",
       "      <th>1</th>\n",
       "      <td>5114</td>\n",
       "      <td>Fullmetal Alchemist: Brotherhood</td>\n",
       "      <td>Action, Adventure, Drama, Fantasy, Magic, Mili...</td>\n",
       "      <td>TV</td>\n",
       "      <td>64</td>\n",
       "      <td>9.26</td>\n",
       "      <td>793665</td>\n",
       "    </tr>\n",
       "    <tr>\n",
       "      <th>2</th>\n",
       "      <td>28977</td>\n",
       "      <td>Gintama°</td>\n",
       "      <td>Action, Comedy, Historical, Parody, Samurai, S...</td>\n",
       "      <td>TV</td>\n",
       "      <td>51</td>\n",
       "      <td>9.25</td>\n",
       "      <td>114262</td>\n",
       "    </tr>\n",
       "    <tr>\n",
       "      <th>3</th>\n",
       "      <td>9253</td>\n",
       "      <td>Steins;Gate</td>\n",
       "      <td>Sci-Fi, Thriller</td>\n",
       "      <td>TV</td>\n",
       "      <td>24</td>\n",
       "      <td>9.17</td>\n",
       "      <td>673572</td>\n",
       "    </tr>\n",
       "    <tr>\n",
       "      <th>4</th>\n",
       "      <td>9969</td>\n",
       "      <td>Gintama&amp;#039;</td>\n",
       "      <td>Action, Comedy, Historical, Parody, Samurai, S...</td>\n",
       "      <td>TV</td>\n",
       "      <td>51</td>\n",
       "      <td>9.16</td>\n",
       "      <td>151266</td>\n",
       "    </tr>\n",
       "  </tbody>\n",
       "</table>\n",
       "</div>"
      ],
      "text/plain": [
       "   anime_id                              name  \\\n",
       "0     32281                    Kimi no Na wa.   \n",
       "1      5114  Fullmetal Alchemist: Brotherhood   \n",
       "2     28977                          Gintama°   \n",
       "3      9253                       Steins;Gate   \n",
       "4      9969                     Gintama&#039;   \n",
       "\n",
       "                                               genre   type episodes  rating  \\\n",
       "0               Drama, Romance, School, Supernatural  Movie        1    9.37   \n",
       "1  Action, Adventure, Drama, Fantasy, Magic, Mili...     TV       64    9.26   \n",
       "2  Action, Comedy, Historical, Parody, Samurai, S...     TV       51    9.25   \n",
       "3                                   Sci-Fi, Thriller     TV       24    9.17   \n",
       "4  Action, Comedy, Historical, Parody, Samurai, S...     TV       51    9.16   \n",
       "\n",
       "   members  \n",
       "0   200630  \n",
       "1   793665  \n",
       "2   114262  \n",
       "3   673572  \n",
       "4   151266  "
      ]
     },
     "execution_count": 59,
     "metadata": {},
     "output_type": "execute_result"
    }
   ],
   "source": [
    "# import the data - use pandas, then convert to spark dataframe after preprocessing\n",
    "dat = pd.read_csv('anime.csv')\n",
    "\n",
    "# remove \"nan\" data\n",
    "dat = dat.dropna().reset_index(drop=True)\n",
    "\n",
    "# lets see what this looks like:\n",
    "dat.head(5)"
   ]
  },
  {
   "cell_type": "code",
   "execution_count": 60,
   "metadata": {
    "collapsed": false
   },
   "outputs": [
    {
     "data": {
      "text/plain": [
       "<matplotlib.axes._subplots.AxesSubplot at 0x7f7071328c88>"
      ]
     },
     "execution_count": 60,
     "metadata": {},
     "output_type": "execute_result"
    },
    {
     "data": {
      "image/png": "[encoded data removed]",
      "text/plain": [
       "<matplotlib.figure.Figure at 0x7f7071dc1160>"
      ]
     },
     "metadata": {},
     "output_type": "display_data"
    }
   ],
   "source": [
    "%matplotlib inline\n",
    "import math\n",
    "## Ratings look like this:\n",
    "ratings = dat[dat['rating'].apply(lambda x: math.isnan(x) == False)]['rating']\n",
    "\n",
    "# graphing\n",
    "seas.set(rc={\"figure.figsize\": (13, 6)})\n",
    "seas.distplot(ratings) "
   ]
  },
  {
   "cell_type": "markdown",
   "metadata": {},
   "source": [
    "### Preprocessing\n",
    "Turn categorical data into binary vectors.\n",
    "The categorical data is \"genre\" and \"type\""
   ]
  },
  {
   "cell_type": "code",
   "execution_count": 61,
   "metadata": {
    "collapsed": false
   },
   "outputs": [
    {
     "name": "stdout",
     "output_type": "stream",
     "text": [
      "['Action' 'Adventure' 'Ai' 'Arts' 'Cars' 'Comedy' 'Dementia' 'Demons'\n",
      " 'Drama' 'Ecchi' 'Fantasy' 'Game' 'Harem' 'Hentai' 'Historical' 'Horror'\n",
      " 'Josei' 'Kids' 'Life' 'Magic' 'Martial' 'Mecha' 'Military' 'Music'\n",
      " 'Mystery' 'Parody' 'Police' 'Power' 'Psychological' 'Romance' 'Samurai'\n",
      " 'School' 'Sci-Fi' 'Seinen' 'Shoujo' 'Shounen' 'Slice' 'Space' 'Sports'\n",
      " 'Super' 'Supernatural' 'Thriller' 'Vampire' 'Yaoi' 'Yuri' 'of']\n"
     ]
    }
   ],
   "source": [
    "N = len(dat) # number of samples\n",
    "\n",
    "### get all the genres:\n",
    "genres = []  # store all genres here:\n",
    "for i in range(N):\n",
    "    # split the string into array\n",
    "    tmp = str(dat['genre'][i]).split()\n",
    "    for j in range(len(tmp)):\n",
    "        if tmp[j].replace(',','') != genres:\n",
    "            # add new genre to the list\n",
    "            genres.append(tmp[j].replace(',',''))\n",
    "# sort the array & show\n",
    "genres = np.sort(np.unique(genres))\n",
    "print(genres)\n",
    "\n",
    "#create a lookup table to refer to later:\n",
    "gn_lut = {g: i for i,g in enumerate(genres)}"
   ]
  },
  {
   "cell_type": "code",
   "execution_count": 62,
   "metadata": {
    "collapsed": false
   },
   "outputs": [
    {
     "name": "stdout",
     "output_type": "stream",
     "text": [
      "['Movie', 'Music', 'ONA', 'OVA', 'Special', 'TV']\n"
     ]
    }
   ],
   "source": [
    "### get all of the episode names\n",
    "types = np.unique(dat['type'].tolist()).tolist()\n",
    "print(types)\n",
    "# lookup table\n",
    "typ_lut = {t: i for i,t in enumerate(types)}"
   ]
  },
  {
   "cell_type": "code",
   "execution_count": 63,
   "metadata": {
    "collapsed": false
   },
   "outputs": [],
   "source": [
    "### for each sample encode their values in matrices\n",
    "a_genre = np.zeros((N,len(genres)))\n",
    "a_type = np.zeros((N,len(types)))\n",
    "\n",
    "for i in range(N):\n",
    "    # get the genre first:\n",
    "    tmp = str(dat['genre'][i]).split()\n",
    "    for j in range(len(tmp)):\n",
    "        a_genre[i,gn_lut[tmp[j].replace(',','')]] = 1. \n",
    "    # get the type:\n",
    "    a_type[i,typ_lut[str(dat['type'][i])]] = 1.\n",
    "       "
   ]
  },
  {
   "cell_type": "code",
   "execution_count": 68,
   "metadata": {
    "collapsed": false
   },
   "outputs": [
    {
     "data": {
      "text/html": [
       "<div>\n",
       "<table border=\"1\" class=\"dataframe\">\n",
       "  <thead>\n",
       "    <tr style=\"text-align: right;\">\n",
       "      <th></th>\n",
       "      <th>name</th>\n",
       "      <th>episodes</th>\n",
       "      <th>rating</th>\n",
       "      <th>members</th>\n",
       "      <th>0</th>\n",
       "      <th>1</th>\n",
       "      <th>2</th>\n",
       "      <th>3</th>\n",
       "      <th>4</th>\n",
       "      <th>5</th>\n",
       "      <th>...</th>\n",
       "      <th>42</th>\n",
       "      <th>43</th>\n",
       "      <th>44</th>\n",
       "      <th>45</th>\n",
       "      <th>46</th>\n",
       "      <th>47</th>\n",
       "      <th>48</th>\n",
       "      <th>49</th>\n",
       "      <th>50</th>\n",
       "      <th>51</th>\n",
       "    </tr>\n",
       "  </thead>\n",
       "  <tbody>\n",
       "    <tr>\n",
       "      <th>0</th>\n",
       "      <td>Kimi no Na wa.</td>\n",
       "      <td>1</td>\n",
       "      <td>9.37</td>\n",
       "      <td>200630</td>\n",
       "      <td>0.0</td>\n",
       "      <td>0.0</td>\n",
       "      <td>0.0</td>\n",
       "      <td>0.0</td>\n",
       "      <td>0.0</td>\n",
       "      <td>0.0</td>\n",
       "      <td>...</td>\n",
       "      <td>0.0</td>\n",
       "      <td>0.0</td>\n",
       "      <td>0.0</td>\n",
       "      <td>0.0</td>\n",
       "      <td>1.0</td>\n",
       "      <td>0.0</td>\n",
       "      <td>0.0</td>\n",
       "      <td>0.0</td>\n",
       "      <td>0.0</td>\n",
       "      <td>0.0</td>\n",
       "    </tr>\n",
       "    <tr>\n",
       "      <th>1</th>\n",
       "      <td>Fullmetal Alchemist: Brotherhood</td>\n",
       "      <td>64</td>\n",
       "      <td>9.26</td>\n",
       "      <td>793665</td>\n",
       "      <td>1.0</td>\n",
       "      <td>1.0</td>\n",
       "      <td>0.0</td>\n",
       "      <td>0.0</td>\n",
       "      <td>0.0</td>\n",
       "      <td>0.0</td>\n",
       "      <td>...</td>\n",
       "      <td>0.0</td>\n",
       "      <td>0.0</td>\n",
       "      <td>0.0</td>\n",
       "      <td>0.0</td>\n",
       "      <td>0.0</td>\n",
       "      <td>0.0</td>\n",
       "      <td>0.0</td>\n",
       "      <td>0.0</td>\n",
       "      <td>0.0</td>\n",
       "      <td>1.0</td>\n",
       "    </tr>\n",
       "    <tr>\n",
       "      <th>2</th>\n",
       "      <td>Gintama°</td>\n",
       "      <td>51</td>\n",
       "      <td>9.25</td>\n",
       "      <td>114262</td>\n",
       "      <td>1.0</td>\n",
       "      <td>0.0</td>\n",
       "      <td>0.0</td>\n",
       "      <td>0.0</td>\n",
       "      <td>0.0</td>\n",
       "      <td>1.0</td>\n",
       "      <td>...</td>\n",
       "      <td>0.0</td>\n",
       "      <td>0.0</td>\n",
       "      <td>0.0</td>\n",
       "      <td>0.0</td>\n",
       "      <td>0.0</td>\n",
       "      <td>0.0</td>\n",
       "      <td>0.0</td>\n",
       "      <td>0.0</td>\n",
       "      <td>0.0</td>\n",
       "      <td>1.0</td>\n",
       "    </tr>\n",
       "    <tr>\n",
       "      <th>3</th>\n",
       "      <td>Steins;Gate</td>\n",
       "      <td>24</td>\n",
       "      <td>9.17</td>\n",
       "      <td>673572</td>\n",
       "      <td>0.0</td>\n",
       "      <td>0.0</td>\n",
       "      <td>0.0</td>\n",
       "      <td>0.0</td>\n",
       "      <td>0.0</td>\n",
       "      <td>0.0</td>\n",
       "      <td>...</td>\n",
       "      <td>0.0</td>\n",
       "      <td>0.0</td>\n",
       "      <td>0.0</td>\n",
       "      <td>0.0</td>\n",
       "      <td>0.0</td>\n",
       "      <td>0.0</td>\n",
       "      <td>0.0</td>\n",
       "      <td>0.0</td>\n",
       "      <td>0.0</td>\n",
       "      <td>1.0</td>\n",
       "    </tr>\n",
       "    <tr>\n",
       "      <th>4</th>\n",
       "      <td>Gintama&amp;#039;</td>\n",
       "      <td>51</td>\n",
       "      <td>9.16</td>\n",
       "      <td>151266</td>\n",
       "      <td>1.0</td>\n",
       "      <td>0.0</td>\n",
       "      <td>0.0</td>\n",
       "      <td>0.0</td>\n",
       "      <td>0.0</td>\n",
       "      <td>1.0</td>\n",
       "      <td>...</td>\n",
       "      <td>0.0</td>\n",
       "      <td>0.0</td>\n",
       "      <td>0.0</td>\n",
       "      <td>0.0</td>\n",
       "      <td>0.0</td>\n",
       "      <td>0.0</td>\n",
       "      <td>0.0</td>\n",
       "      <td>0.0</td>\n",
       "      <td>0.0</td>\n",
       "      <td>1.0</td>\n",
       "    </tr>\n",
       "  </tbody>\n",
       "</table>\n",
       "<p>5 rows × 56 columns</p>\n",
       "</div>"
      ],
      "text/plain": [
       "                               name episodes  rating  members    0    1    2  \\\n",
       "0                    Kimi no Na wa.        1    9.37   200630  0.0  0.0  0.0   \n",
       "1  Fullmetal Alchemist: Brotherhood       64    9.26   793665  1.0  1.0  0.0   \n",
       "2                          Gintama°       51    9.25   114262  1.0  0.0  0.0   \n",
       "3                       Steins;Gate       24    9.17   673572  0.0  0.0  0.0   \n",
       "4                     Gintama&#039;       51    9.16   151266  1.0  0.0  0.0   \n",
       "\n",
       "     3    4    5 ...    42   43   44   45   46   47   48   49   50   51  \n",
       "0  0.0  0.0  0.0 ...   0.0  0.0  0.0  0.0  1.0  0.0  0.0  0.0  0.0  0.0  \n",
       "1  0.0  0.0  0.0 ...   0.0  0.0  0.0  0.0  0.0  0.0  0.0  0.0  0.0  1.0  \n",
       "2  0.0  0.0  1.0 ...   0.0  0.0  0.0  0.0  0.0  0.0  0.0  0.0  0.0  1.0  \n",
       "3  0.0  0.0  0.0 ...   0.0  0.0  0.0  0.0  0.0  0.0  0.0  0.0  0.0  1.0  \n",
       "4  0.0  0.0  1.0 ...   0.0  0.0  0.0  0.0  0.0  0.0  0.0  0.0  0.0  1.0  \n",
       "\n",
       "[5 rows x 56 columns]"
      ]
     },
     "execution_count": 68,
     "metadata": {},
     "output_type": "execute_result"
    }
   ],
   "source": [
    "### send back to pd dataframe:\n",
    "newdat = pd.DataFrame(a_genre)\n",
    "newdat = pd.concat((dat.ix[:,[1,4,5,6]],newdat,pd.DataFrame(a_type)),axis = 1)\n",
    "# rename columns:\n",
    "newdat.columns = ['name','episodes','rating','members'] + [i for i in range(np.shape(newdat)[1]-4)]\n",
    "newdat = newdat.dropna().reset_index(drop=True)\n",
    "newdat.head(5)"
   ]
  },
  {
   "cell_type": "markdown",
   "metadata": {},
   "source": [
    "### Import to spark & Do some machine learning\n",
    "Going to use a ridge regression to predict the rating of an anime given some features..."
   ]
  },
  {
   "cell_type": "code",
   "execution_count": 69,
   "metadata": {
    "collapsed": false
   },
   "outputs": [
    {
     "name": "stdout",
     "output_type": "stream",
     "text": [
      "[Row(name='Kimi no Na wa.', episodes='1', rating=9.37, members=200630, 0=0.0, 1=0.0, 2=0.0, 3=0.0, 4=0.0, 5=0.0, 6=0.0, 7=0.0, 8=1.0, 9=0.0, 10=0.0, 11=0.0, 12=0.0, 13=0.0, 14=0.0, 15=0.0, 16=0.0, 17=0.0, 18=0.0, 19=0.0, 20=0.0, 21=0.0, 22=0.0, 23=0.0, 24=0.0, 25=0.0, 26=0.0, 27=0.0, 28=0.0, 29=1.0, 30=0.0, 31=1.0, 32=0.0, 33=0.0, 34=0.0, 35=0.0, 36=0.0, 37=0.0, 38=0.0, 39=0.0, 40=1.0, 41=0.0, 42=0.0, 43=0.0, 44=0.0, 45=0.0, 46=1.0, 47=0.0, 48=0.0, 49=0.0, 50=0.0, 51=0.0)]\n"
     ]
    }
   ],
   "source": [
    "anime = spark.createDataFrame(newdat)\n",
    "print(anime.take(1))"
   ]
  },
  {
   "cell_type": "code",
   "execution_count": 70,
   "metadata": {
    "collapsed": false
   },
   "outputs": [],
   "source": [
    "from pyspark.mllib.regression import LabeledPoint, RidgeRegressionWithSGD\n",
    "from pyspark.sql import Row"
   ]
  },
  {
   "cell_type": "code",
   "execution_count": 71,
   "metadata": {
    "collapsed": false
   },
   "outputs": [],
   "source": [
    "def make_feat(x):\n",
    "    # label the points\n",
    "    return LabeledPoint(x['rating'],x[3:])\n",
    "\n",
    "# split data into test and train portions\n",
    "tst,trn = anime.randomSplit([0.3,0.7])\n",
    "train = trn.rdd.map(make_feat)\n",
    "test = tst.rdd.map(make_feat)\n",
    "del tst, trn"
   ]
  },
  {
   "cell_type": "code",
   "execution_count": 72,
   "metadata": {
    "collapsed": false
   },
   "outputs": [
    {
     "name": "stdout",
     "output_type": "stream",
     "text": [
      "+--------------------+-----+\n",
      "|            features|label|\n",
      "+--------------------+-----+\n",
      "|[18013.0,0.0,0.0,...| 7.54|\n",
      "|[40984.0,0.0,0.0,...| 7.63|\n",
      "|[11617.0,1.0,1.0,...| 7.32|\n",
      "|[4311.0,1.0,1.0,0...| 7.33|\n",
      "|[59492.0,0.0,0.0,...| 7.93|\n",
      "|[3963.0,0.0,0.0,0...| 7.14|\n",
      "|[8892.0,1.0,1.0,0...| 7.13|\n",
      "|[140604.0,1.0,0.0...| 7.93|\n",
      "|[22302.0,0.0,0.0,...| 7.84|\n",
      "|[34590.0,0.0,0.0,...| 7.41|\n",
      "|[12872.0,0.0,0.0,...| 7.45|\n",
      "|[96694.0,0.0,0.0,...| 7.45|\n",
      "|[19257.0,0.0,0.0,...| 7.61|\n",
      "|[29330.0,0.0,0.0,...| 7.65|\n",
      "|[18465.0,0.0,0.0,...| 7.71|\n",
      "|[324284.0,1.0,0.0...| 7.62|\n",
      "|[61198.0,1.0,0.0,...| 7.32|\n",
      "|[3433.0,0.0,0.0,0...| 7.59|\n",
      "|[127973.0,0.0,0.0...| 7.65|\n",
      "|[26246.0,0.0,0.0,...| 7.62|\n",
      "+--------------------+-----+\n",
      "only showing top 20 rows\n",
      "\n"
     ]
    }
   ],
   "source": [
    "# show what the features look like as a dataframe:\n",
    "train.toDF().show()"
   ]
  },
  {
   "cell_type": "code",
   "execution_count": 80,
   "metadata": {
    "collapsed": false
   },
   "outputs": [
    {
     "name": "stderr",
     "output_type": "stream",
     "text": [
      "/home/max/Downloads/spark-2.1.1-bin-hadoop2.7/python/pyspark/mllib/regression.py:567: UserWarning: Deprecated in 2.0.0. Use ml.regression.LinearRegression with elasticNetParam = 0.0. Note the default regParam is 0.01 for RidgeRegressionWithSGD, but is 0.0 for LinearRegression.\n",
      "  \"Deprecated in 2.0.0. Use ml.regression.LinearRegression with elasticNetParam = 0.0. \"\n"
     ]
    }
   ],
   "source": [
    "## Build the model\n",
    "model = RidgeRegressionWithSGD.train(train, step = 0.001)"
   ]
  },
  {
   "cell_type": "code",
   "execution_count": 81,
   "metadata": {
    "collapsed": false
   },
   "outputs": [],
   "source": [
    "predictions = model.predict(test)\n",
    "labels_and_preds = test.map(lambda lp: (lp.label,model.predict(lp.features)) )"
   ]
  }
 ],
 "metadata": {
  "kernelspec": {
   "display_name": "Python [Root]",
   "language": "python",
   "name": "Python [Root]"
  },
  "language_info": {
   "codemirror_mode": {
    "name": "ipython",
    "version": 3
   },
   "file_extension": ".py",
   "mimetype": "text/x-python",
   "name": "python",
   "nbconvert_exporter": "python",
   "pygments_lexer": "ipython3",
   "version": "3.5.2"
  }
 },
 "nbformat": 4,
 "nbformat_minor": 0
}
