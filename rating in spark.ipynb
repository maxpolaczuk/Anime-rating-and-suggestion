{
 "cells": [
  {
   "cell_type": "markdown",
   "metadata": {},
   "source": [
    "#  Predicting Anime Ratings in MLlib"
   ]
  },
  {
   "cell_type": "code",
   "execution_count": 3,
   "metadata": {
    "collapsed": true
   },
   "outputs": [],
   "source": [
    "# locate spark without needing to set ENV variables\n",
    "import findspark\n",
    "findspark.init('C:/Users/Max.Polaczuk/Documents/Downloads/spark-2.1.1-bin-hadoop2.7/spark-2.1.1-bin-hadoop2.7')\n",
    "\n",
    "# spark imports\n",
    "from pyspark import SparkContext, SparkConf\n",
    "from pyspark.sql import SparkSession\n",
    "import pandas as pd\n",
    "import numpy as np\n",
    "import seaborn as seas\n",
    "\n",
    "sc = SparkContext() # start the spark context\n",
    "spark = SparkSession(sc) # start spark session\n"
   ]
  },
  {
   "cell_type": "code",
   "execution_count": 4,
   "metadata": {},
   "outputs": [
    {
     "data": {
      "text/html": [
       "<div>\n",
       "<table border=\"1\" class=\"dataframe\">\n",
       "  <thead>\n",
       "    <tr style=\"text-align: right;\">\n",
       "      <th></th>\n",
       "      <th>anime_id</th>\n",
       "      <th>name</th>\n",
       "      <th>genre</th>\n",
       "      <th>type</th>\n",
       "      <th>episodes</th>\n",
       "      <th>rating</th>\n",
       "      <th>members</th>\n",
       "    </tr>\n",
       "  </thead>\n",
       "  <tbody>\n",
       "    <tr>\n",
       "      <th>0</th>\n",
       "      <td>32281</td>\n",
       "      <td>Kimi no Na wa.</td>\n",
       "      <td>Drama, Romance, School, Supernatural</td>\n",
       "      <td>Movie</td>\n",
       "      <td>1</td>\n",
       "      <td>9.37</td>\n",
       "      <td>200630</td>\n",
       "    </tr>\n",
       "    <tr>\n",
       "      <th>1</th>\n",
       "      <td>5114</td>\n",
       "      <td>Fullmetal Alchemist: Brotherhood</td>\n",
       "      <td>Action, Adventure, Drama, Fantasy, Magic, Mili...</td>\n",
       "      <td>TV</td>\n",
       "      <td>64</td>\n",
       "      <td>9.26</td>\n",
       "      <td>793665</td>\n",
       "    </tr>\n",
       "    <tr>\n",
       "      <th>2</th>\n",
       "      <td>28977</td>\n",
       "      <td>Gintama°</td>\n",
       "      <td>Action, Comedy, Historical, Parody, Samurai, S...</td>\n",
       "      <td>TV</td>\n",
       "      <td>51</td>\n",
       "      <td>9.25</td>\n",
       "      <td>114262</td>\n",
       "    </tr>\n",
       "    <tr>\n",
       "      <th>3</th>\n",
       "      <td>9253</td>\n",
       "      <td>Steins;Gate</td>\n",
       "      <td>Sci-Fi, Thriller</td>\n",
       "      <td>TV</td>\n",
       "      <td>24</td>\n",
       "      <td>9.17</td>\n",
       "      <td>673572</td>\n",
       "    </tr>\n",
       "    <tr>\n",
       "      <th>4</th>\n",
       "      <td>9969</td>\n",
       "      <td>Gintama&amp;#039;</td>\n",
       "      <td>Action, Comedy, Historical, Parody, Samurai, S...</td>\n",
       "      <td>TV</td>\n",
       "      <td>51</td>\n",
       "      <td>9.16</td>\n",
       "      <td>151266</td>\n",
       "    </tr>\n",
       "  </tbody>\n",
       "</table>\n",
       "</div>"
      ],
      "text/plain": [
       "   anime_id                              name  \\\n",
       "0     32281                    Kimi no Na wa.   \n",
       "1      5114  Fullmetal Alchemist: Brotherhood   \n",
       "2     28977                          Gintama°   \n",
       "3      9253                       Steins;Gate   \n",
       "4      9969                     Gintama&#039;   \n",
       "\n",
       "                                               genre   type episodes  rating  \\\n",
       "0               Drama, Romance, School, Supernatural  Movie        1    9.37   \n",
       "1  Action, Adventure, Drama, Fantasy, Magic, Mili...     TV       64    9.26   \n",
       "2  Action, Comedy, Historical, Parody, Samurai, S...     TV       51    9.25   \n",
       "3                                   Sci-Fi, Thriller     TV       24    9.17   \n",
       "4  Action, Comedy, Historical, Parody, Samurai, S...     TV       51    9.16   \n",
       "\n",
       "   members  \n",
       "0   200630  \n",
       "1   793665  \n",
       "2   114262  \n",
       "3   673572  \n",
       "4   151266  "
      ]
     },
     "execution_count": 4,
     "metadata": {},
     "output_type": "execute_result"
    }
   ],
   "source": [
    "# import the data - use pandas, then convert to spark dataframe after preprocessing\n",
    "dat = pd.read_csv('anime.csv')\n",
    "\n",
    "# remove \"nan\" data\n",
    "dat = dat.dropna().reset_index(drop=True)\n",
    "\n",
    "# lets see what this looks like:\n",
    "dat.head(5)"
   ]
  },
  {
   "cell_type": "code",
   "execution_count": 5,
   "metadata": {},
   "outputs": [
    {
     "name": "stderr",
     "output_type": "stream",
     "text": [
      "C:\\Users\\Max.Polaczuk\\AppData\\Local\\Continuum\\Anaconda3\\lib\\site-packages\\statsmodels\\nonparametric\\kdetools.py:20: VisibleDeprecationWarning: using a non-integer number instead of an integer will result in an error in the future\n",
      "  y = X[:m/2+1] + np.r_[0,X[m/2+1:],0]*1j\n"
     ]
    },
    {
     "data": {
      "text/plain": [
       "<matplotlib.axes._subplots.AxesSubplot at 0xb970400>"
      ]
     },
     "execution_count": 5,
     "metadata": {},
     "output_type": "execute_result"
    },
    {
     "data": {
      "image/png": "[encoded data removed]",
      "text/plain": [
       "<matplotlib.figure.Figure at 0xb63aef0>"
      ]
     },
     "metadata": {},
     "output_type": "display_data"
    }
   ],
   "source": [
    "%matplotlib inline\n",
    "import math\n",
    "## Ratings look like this:\n",
    "ratings = dat[dat['rating'].apply(lambda x: math.isnan(x) == False)]['rating']\n",
    "\n",
    "# graphing\n",
    "seas.set(rc={\"figure.figsize\": (13, 6)})\n",
    "seas.distplot(ratings)"
   ]
  },
  {
   "cell_type": "markdown",
   "metadata": {},
   "source": [
    "### Preprocessing in Pandas"
   ]
  },
  {
   "cell_type": "code",
   "execution_count": 89,
   "metadata": {},
   "outputs": [
    {
     "name": "stdout",
     "output_type": "stream",
     "text": [
      "['Action' 'Adventure' 'Ai' 'Arts' 'Cars' 'Comedy' 'Dementia' 'Demons'\n",
      " 'Drama' 'Ecchi' 'Fantasy' 'Game' 'Harem' 'Hentai' 'Historical' 'Horror'\n",
      " 'Josei' 'Kids' 'Life' 'Magic' 'Martial' 'Mecha' 'Military' 'Music'\n",
      " 'Mystery' 'Parody' 'Police' 'Power' 'Psychological' 'Romance' 'Samurai'\n",
      " 'School' 'Sci-Fi' 'Seinen' 'Shoujo' 'Shounen' 'Slice' 'Space' 'Sports'\n",
      " 'Super' 'Supernatural' 'Thriller' 'Vampire' 'Yaoi' 'Yuri' 'of']\n",
      "['Movie', 'Music', 'ONA', 'OVA', 'Special', 'TV']\n"
     ]
    },
    {
     "data": {
      "text/html": [
       "<div>\n",
       "<table border=\"1\" class=\"dataframe\">\n",
       "  <thead>\n",
       "    <tr style=\"text-align: right;\">\n",
       "      <th></th>\n",
       "      <th>name</th>\n",
       "      <th>episodes</th>\n",
       "      <th>rating</th>\n",
       "      <th>members</th>\n",
       "      <th>0</th>\n",
       "      <th>1</th>\n",
       "      <th>2</th>\n",
       "      <th>3</th>\n",
       "      <th>4</th>\n",
       "      <th>5</th>\n",
       "      <th>...</th>\n",
       "      <th>42</th>\n",
       "      <th>43</th>\n",
       "      <th>44</th>\n",
       "      <th>45</th>\n",
       "      <th>46</th>\n",
       "      <th>47</th>\n",
       "      <th>48</th>\n",
       "      <th>49</th>\n",
       "      <th>50</th>\n",
       "      <th>51</th>\n",
       "    </tr>\n",
       "  </thead>\n",
       "  <tbody>\n",
       "    <tr>\n",
       "      <th>0</th>\n",
       "      <td>Kimi no Na wa.</td>\n",
       "      <td>1.0</td>\n",
       "      <td>9.37</td>\n",
       "      <td>200630</td>\n",
       "      <td>0.0</td>\n",
       "      <td>0.0</td>\n",
       "      <td>0.0</td>\n",
       "      <td>0.0</td>\n",
       "      <td>0.0</td>\n",
       "      <td>0.0</td>\n",
       "      <td>...</td>\n",
       "      <td>0.0</td>\n",
       "      <td>0.0</td>\n",
       "      <td>0.0</td>\n",
       "      <td>0.0</td>\n",
       "      <td>1.0</td>\n",
       "      <td>0.0</td>\n",
       "      <td>0.0</td>\n",
       "      <td>0.0</td>\n",
       "      <td>0.0</td>\n",
       "      <td>0.0</td>\n",
       "    </tr>\n",
       "    <tr>\n",
       "      <th>1</th>\n",
       "      <td>Fullmetal Alchemist: Brotherhood</td>\n",
       "      <td>64.0</td>\n",
       "      <td>9.26</td>\n",
       "      <td>793665</td>\n",
       "      <td>1.0</td>\n",
       "      <td>1.0</td>\n",
       "      <td>0.0</td>\n",
       "      <td>0.0</td>\n",
       "      <td>0.0</td>\n",
       "      <td>0.0</td>\n",
       "      <td>...</td>\n",
       "      <td>0.0</td>\n",
       "      <td>0.0</td>\n",
       "      <td>0.0</td>\n",
       "      <td>0.0</td>\n",
       "      <td>0.0</td>\n",
       "      <td>0.0</td>\n",
       "      <td>0.0</td>\n",
       "      <td>0.0</td>\n",
       "      <td>0.0</td>\n",
       "      <td>1.0</td>\n",
       "    </tr>\n",
       "    <tr>\n",
       "      <th>2</th>\n",
       "      <td>Gintama°</td>\n",
       "      <td>51.0</td>\n",
       "      <td>9.25</td>\n",
       "      <td>114262</td>\n",
       "      <td>1.0</td>\n",
       "      <td>0.0</td>\n",
       "      <td>0.0</td>\n",
       "      <td>0.0</td>\n",
       "      <td>0.0</td>\n",
       "      <td>1.0</td>\n",
       "      <td>...</td>\n",
       "      <td>0.0</td>\n",
       "      <td>0.0</td>\n",
       "      <td>0.0</td>\n",
       "      <td>0.0</td>\n",
       "      <td>0.0</td>\n",
       "      <td>0.0</td>\n",
       "      <td>0.0</td>\n",
       "      <td>0.0</td>\n",
       "      <td>0.0</td>\n",
       "      <td>1.0</td>\n",
       "    </tr>\n",
       "    <tr>\n",
       "      <th>3</th>\n",
       "      <td>Steins;Gate</td>\n",
       "      <td>24.0</td>\n",
       "      <td>9.17</td>\n",
       "      <td>673572</td>\n",
       "      <td>0.0</td>\n",
       "      <td>0.0</td>\n",
       "      <td>0.0</td>\n",
       "      <td>0.0</td>\n",
       "      <td>0.0</td>\n",
       "      <td>0.0</td>\n",
       "      <td>...</td>\n",
       "      <td>0.0</td>\n",
       "      <td>0.0</td>\n",
       "      <td>0.0</td>\n",
       "      <td>0.0</td>\n",
       "      <td>0.0</td>\n",
       "      <td>0.0</td>\n",
       "      <td>0.0</td>\n",
       "      <td>0.0</td>\n",
       "      <td>0.0</td>\n",
       "      <td>1.0</td>\n",
       "    </tr>\n",
       "    <tr>\n",
       "      <th>4</th>\n",
       "      <td>Gintama&amp;#039;</td>\n",
       "      <td>51.0</td>\n",
       "      <td>9.16</td>\n",
       "      <td>151266</td>\n",
       "      <td>1.0</td>\n",
       "      <td>0.0</td>\n",
       "      <td>0.0</td>\n",
       "      <td>0.0</td>\n",
       "      <td>0.0</td>\n",
       "      <td>1.0</td>\n",
       "      <td>...</td>\n",
       "      <td>0.0</td>\n",
       "      <td>0.0</td>\n",
       "      <td>0.0</td>\n",
       "      <td>0.0</td>\n",
       "      <td>0.0</td>\n",
       "      <td>0.0</td>\n",
       "      <td>0.0</td>\n",
       "      <td>0.0</td>\n",
       "      <td>0.0</td>\n",
       "      <td>1.0</td>\n",
       "    </tr>\n",
       "  </tbody>\n",
       "</table>\n",
       "<p>5 rows × 56 columns</p>\n",
       "</div>"
      ],
      "text/plain": [
       "                               name  episodes  rating  members    0    1    2  \\\n",
       "0                    Kimi no Na wa.       1.0    9.37   200630  0.0  0.0  0.0   \n",
       "1  Fullmetal Alchemist: Brotherhood      64.0    9.26   793665  1.0  1.0  0.0   \n",
       "2                          Gintama°      51.0    9.25   114262  1.0  0.0  0.0   \n",
       "3                       Steins;Gate      24.0    9.17   673572  0.0  0.0  0.0   \n",
       "4                     Gintama&#039;      51.0    9.16   151266  1.0  0.0  0.0   \n",
       "\n",
       "     3    4    5 ...    42   43   44   45   46   47   48   49   50   51  \n",
       "0  0.0  0.0  0.0 ...   0.0  0.0  0.0  0.0  1.0  0.0  0.0  0.0  0.0  0.0  \n",
       "1  0.0  0.0  0.0 ...   0.0  0.0  0.0  0.0  0.0  0.0  0.0  0.0  0.0  1.0  \n",
       "2  0.0  0.0  1.0 ...   0.0  0.0  0.0  0.0  0.0  0.0  0.0  0.0  0.0  1.0  \n",
       "3  0.0  0.0  0.0 ...   0.0  0.0  0.0  0.0  0.0  0.0  0.0  0.0  0.0  1.0  \n",
       "4  0.0  0.0  1.0 ...   0.0  0.0  0.0  0.0  0.0  0.0  0.0  0.0  0.0  1.0  \n",
       "\n",
       "[5 rows x 56 columns]"
      ]
     },
     "execution_count": 89,
     "metadata": {},
     "output_type": "execute_result"
    }
   ],
   "source": [
    "### Preprocessing\n",
    "N = len(dat) # number of samples\n",
    "\n",
    "### get all the genres:\n",
    "genres = []  # store all genres here:\n",
    "for i in range(N):\n",
    "    # split the string into array\n",
    "    tmp = str(dat['genre'][i]).split()\n",
    "    for j in range(len(tmp)):\n",
    "        if tmp[j].replace(',','') != genres:\n",
    "            # add new genre to the list\n",
    "            genres.append(tmp[j].replace(',',''))\n",
    "# sort the array & show\n",
    "genres = np.sort(np.unique(genres))\n",
    "print(genres)\n",
    "\n",
    "#create a lookup table to refer to later:\n",
    "gn_lut = {g: i for i,g in enumerate(genres)}\n",
    "\n",
    "### get all of the episode names\n",
    "types = np.unique(dat['type'].tolist()).tolist()\n",
    "print(types)\n",
    "# lookup table\n",
    "typ_lut = {t: i for i,t in enumerate(types)}\n",
    "\n",
    "### for each sample encode their values in matrices\n",
    "a_genre = np.zeros((N,len(genres)))\n",
    "a_type = np.zeros((N,len(types)))\n",
    "\n",
    "for i in range(N):\n",
    "    # get the genre first:\n",
    "    tmp = str(dat['genre'][i]).split()\n",
    "    for j in range(len(tmp)):\n",
    "        a_genre[i,gn_lut[tmp[j].replace(',','')]] = 1. \n",
    "    # get the type:\n",
    "    a_type[i,typ_lut[str(dat['type'][i])]] = 1.\n",
    "\n",
    "### send back to pd dataframe:\n",
    "newdat = pd.DataFrame(a_genre)\n",
    "newdat = pd.concat((dat.ix[:,[1,4,5,6]],newdat,pd.DataFrame(a_type)),axis = 1)\n",
    "\n",
    "# rename columns:\n",
    "newdat.columns = ['name','episodes','rating','members'] + [i for i in range(np.shape(newdat)[1]-4)]\n",
    "newdat = newdat.dropna().reset_index(drop=True)\n",
    "# remove where episodes is not a digit\n",
    "newdat = newdat[newdat['episodes'].apply(lambda x: str(x).isdigit())].reset_index(drop=True)\n",
    "newdat['episodes'] = [float(i) for i in newdat['episodes']] # convert episodes to floating data\n",
    "newdat.head(5)"
   ]
  },
  {
   "cell_type": "markdown",
   "metadata": {},
   "source": [
    "### Convert to spark"
   ]
  },
  {
   "cell_type": "code",
   "execution_count": 92,
   "metadata": {},
   "outputs": [
    {
     "name": "stdout",
     "output_type": "stream",
     "text": [
      "+-------+------------------+\n",
      "|summary|             label|\n",
      "+-------+------------------+\n",
      "|  count|             11830|\n",
      "|   mean| 6.484608622147075|\n",
      "| stddev|1.0191474981344986|\n",
      "|    min|              1.67|\n",
      "|    max|              10.0|\n",
      "+-------+------------------+\n",
      "\n"
     ]
    }
   ],
   "source": [
    "from pyspark.ml.linalg import Vectors\n",
    "from pyspark.ml.regression import LinearRegression\n",
    "from pyspark.ml.feature import VectorAssembler\n",
    "\n",
    "anime = spark.createDataFrame(newdat)\n",
    "print(anime.take(1))\n",
    "\n",
    "# rename \"rating\" to be \"label\" because that is what we are after\n",
    "anime = anime.withColumnRenamed(\"rating\", \"label\")\n",
    "\n",
    "# show some statistics about the label\n",
    "anime.describe('label').show()"
   ]
  },
  {
   "cell_type": "markdown",
   "metadata": {},
   "source": [
    "### The Model\n",
    "We use a Random Forest Regression to predict the anime's rating"
   ]
  },
  {
   "cell_type": "code",
   "execution_count": 93,
   "metadata": {},
   "outputs": [
    {
     "name": "stdout",
     "output_type": "stream",
     "text": [
      "['episodes', 'members', '0', '1', '2', '3', '4', '5', '6', '7', '8', '9', '10', '11', '12', '13', '14', '15', '16', '17', '18', '19', '20', '21', '22', '23', '24', '25', '26', '27', '28', '29', '30', '31', '32', '33', '34', '35', '36', '37', '38', '39', '40', '41', '42', '43', '44', '45', '46', '47', '48', '49', '50', '51']\n"
     ]
    }
   ],
   "source": [
    "from pyspark.ml import Pipeline\n",
    "from pyspark.ml.clustering import KMeans\n",
    "from pyspark.ml.regression import RandomForestRegressor\n",
    "\n",
    "# split data to test and training sets:\n",
    "test, train = anime.randomSplit([0.3,0.7])\n",
    "\n",
    "## start the model pipeline\n",
    "ignore = ['name', 'label']\n",
    "\n",
    "assembler = VectorAssembler(\n",
    "    inputCols=[x for x in anime.columns if x not in ignore],\n",
    "    outputCol='features')\n",
    "\n",
    "# transform the data into feature vector\n",
    "assembler.transform(train)\n",
    "\n",
    "# build model\n",
    "rf = RandomForestRegressor(featuresCol=\"features\")\n",
    "\n",
    "pipeline = Pipeline(stages=[assembler, rf])\n",
    "\n",
    "# train model\n",
    "model = pipeline.fit(train)\n"
   ]
  },
  {
   "cell_type": "code",
   "execution_count": 94,
   "metadata": {},
   "outputs": [
    {
     "name": "stdout",
     "output_type": "stream",
     "text": [
      "+--------------------+------------------+-----+\n",
      "|                name|        prediction|label|\n",
      "+--------------------+------------------+-----+\n",
      "|Hajime no Ippo: N...| 7.901716933131214| 8.75|\n",
      "|  Shingeki no Kyojin| 7.820336618430128| 8.54|\n",
      "|Great Teacher Oni...| 7.812821901282921| 8.77|\n",
      "| Fullmetal Alchemist|7.7990370453750995| 8.33|\n",
      "|        Eureka Seven| 7.769850973669928| 8.19|\n",
      "|Clannad: After Story| 7.769850973669928| 9.06|\n",
      "|             Monster| 7.758017568590384| 8.72|\n",
      "|Tsubasa Chronicle...| 7.745589642267262|  7.7|\n",
      "|              Naruto| 7.731277404807878| 7.81|\n",
      "|          Death Note|7.7227976177137805| 8.71|\n",
      "|Phantom: Requiem ...| 7.716538410290643| 8.16|\n",
      "|     Hunter x Hunter| 7.709451089018404| 8.48|\n",
      "|Hunter x Hunter (...| 7.709451089018404| 9.13|\n",
      "|          D.Gray-man| 7.709451089018404|  8.2|\n",
      "|Katekyo Hitman Re...| 7.709451089018404| 8.37|\n",
      "|  Mawaru Penguindrum| 7.709253941076028| 8.08|\n",
      "|        Kuroshitsuji| 7.709231506514968| 8.06|\n",
      "|      Pandora Hearts|7.7027841229395975| 7.92|\n",
      "|     The Law of Ueki| 7.697287794208623| 7.88|\n",
      "|    Kuroko no Basket| 7.685070010360829| 8.46|\n",
      "+--------------------+------------------+-----+\n",
      "only showing top 20 rows\n",
      "\n"
     ]
    }
   ],
   "source": [
    "# show the top 20 predictions\n",
    "from pyspark.sql.functions import asc, desc # for sorting dataframe\n",
    "model.transform(test).select('name','prediction','label').sort(desc('prediction')).show()"
   ]
  },
  {
   "cell_type": "code",
   "execution_count": 126,
   "metadata": {},
   "outputs": [],
   "source": [
    "from difflib import get_close_matches\n",
    "\n",
    "## find animes and predict from an ad hoc query...\n",
    "def predict_anime(an_name):\n",
    "    namz = anime.select('name').toPandas().ix[:,0].tolist() # list of anime names from spark\n",
    "    try:\n",
    "        ani = get_close_matches(an_name,namz,1)[0] # gets the closest anime\n",
    "        print('Anime selected is:',ani)\n",
    "    except:\n",
    "        print('No matches for anime name!')\n",
    "        return 'no matches'\n",
    "        \n",
    "    # if all good then return the dataframe\n",
    "    tstdat = anime.filter(anime['name'] == ani)\n",
    "    # run prediction\n",
    "    return model.transform(tstdat).select('name','prediction','label').show()\n"
   ]
  },
  {
   "cell_type": "markdown",
   "metadata": {},
   "source": [
    "### Do some predictions for a given anime query\n",
    "\n",
    "Some animes are using their japanese names so it doesn't always detect.\n",
    "\n",
    "Lets first do some good animes:"
   ]
  },
  {
   "cell_type": "code",
   "execution_count": 130,
   "metadata": {},
   "outputs": [
    {
     "name": "stdout",
     "output_type": "stream",
     "text": [
      "Anime selected is: Shokugeki no Souma\n",
      "+------------------+------------------+-----+\n",
      "|              name|        prediction|label|\n",
      "+------------------+------------------+-----+\n",
      "|Shokugeki no Souma|7.6286600058329865| 8.61|\n",
      "+------------------+------------------+-----+\n",
      "\n"
     ]
    }
   ],
   "source": [
    "predict_anime('shokugeki no soma')"
   ]
  },
  {
   "cell_type": "code",
   "execution_count": 132,
   "metadata": {},
   "outputs": [
    {
     "name": "stdout",
     "output_type": "stream",
     "text": [
      "Anime selected is: Dragon Ball Z\n",
      "+-------------+-----------------+-----+\n",
      "|         name|       prediction|label|\n",
      "+-------------+-----------------+-----+\n",
      "|Dragon Ball Z|7.731277404807878| 8.32|\n",
      "+-------------+-----------------+-----+\n",
      "\n"
     ]
    }
   ],
   "source": [
    "predict_anime('dragonball z')"
   ]
  },
  {
   "cell_type": "code",
   "execution_count": 134,
   "metadata": {},
   "outputs": [
    {
     "name": "stdout",
     "output_type": "stream",
     "text": [
      "Anime selected is: Kimi no Na wa.\n",
      "+--------------+-----------------+-----+\n",
      "|          name|       prediction|label|\n",
      "+--------------+-----------------+-----+\n",
      "|Kimi no Na wa.|7.398889606125907| 9.37|\n",
      "+--------------+-----------------+-----+\n",
      "\n"
     ]
    }
   ],
   "source": [
    "predict_anime('kimi no wa')"
   ]
  },
  {
   "cell_type": "markdown",
   "metadata": {},
   "source": [
    "And now try with some bad animes:"
   ]
  },
  {
   "cell_type": "code",
   "execution_count": 137,
   "metadata": {},
   "outputs": [
    {
     "name": "stdout",
     "output_type": "stream",
     "text": [
      "Anime selected is: Hametsu no Mars\n",
      "+---------------+-----------------+-----+\n",
      "|           name|       prediction|label|\n",
      "+---------------+-----------------+-----+\n",
      "|Hametsu no Mars|6.954753780455791| 2.37|\n",
      "+---------------+-----------------+-----+\n",
      "\n"
     ]
    }
   ],
   "source": [
    "predict_anime('hametsu no mars')"
   ]
  },
  {
   "cell_type": "code",
   "execution_count": 140,
   "metadata": {},
   "outputs": [
    {
     "name": "stdout",
     "output_type": "stream",
     "text": [
      "Anime selected is: Hundred\n",
      "+-------+-----------------+-----+\n",
      "|   name|       prediction|label|\n",
      "+-------+-----------------+-----+\n",
      "|Hundred|7.156872473293802| 6.53|\n",
      "+-------+-----------------+-----+\n",
      "\n"
     ]
    }
   ],
   "source": [
    "predict_anime('hundred')"
   ]
  },
  {
   "cell_type": "markdown",
   "metadata": {},
   "source": [
    "Ratings are pretty flat predictions, I think the model needs to change - including hyperparam changes"
   ]
  },
  {
   "cell_type": "code",
   "execution_count": null,
   "metadata": {
    "collapsed": true
   },
   "outputs": [],
   "source": []
  }
 ],
 "metadata": {
  "anaconda-cloud": {},
  "kernelspec": {
   "display_name": "Python [Root]",
   "language": "python",
   "name": "Python [Root]"
  },
  "language_info": {
   "codemirror_mode": {
    "name": "ipython",
    "version": 3
   },
   "file_extension": ".py",
   "mimetype": "text/x-python",
   "name": "python",
   "nbconvert_exporter": "python",
   "pygments_lexer": "ipython3",
   "version": "3.5.2"
  }
 },
 "nbformat": 4,
 "nbformat_minor": 2
}
